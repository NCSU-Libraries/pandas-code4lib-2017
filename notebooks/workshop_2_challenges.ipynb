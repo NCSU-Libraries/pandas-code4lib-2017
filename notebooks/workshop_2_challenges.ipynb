{
 "cells": [
  {
   "cell_type": "markdown",
   "metadata": {
    "run_control": {
     "frozen": false,
     "read_only": false
    }
   },
   "source": [
    "# Code4Lib 2017 Workshop"
   ]
  },
  {
   "cell_type": "markdown",
   "metadata": {},
   "source": [
    "## Intro\n",
    "\n",
    "This notebook is an opportunity for you to work independently or with a partner on applying what you've learned so far. "
   ]
  },
  {
   "cell_type": "code",
   "execution_count": 2,
   "metadata": {
    "collapsed": true
   },
   "outputs": [],
   "source": [
    "# import required libraries\n",
    "import pandas as pd\n",
    "import numpy as np\n",
    "import matplotlib.pyplot as plt"
   ]
  },
  {
   "cell_type": "markdown",
   "metadata": {},
   "source": [
    "## Cars and Engines Datasets Challenge\n",
    "\n",
    "1. Import the cars.csv and engines.csv datasets into dataframes. Inspect the shape of each.\n",
    "1. Merge the engines dataset with the cars dataset. (Should we use inner join or left join? Why?)\n",
    "1. Order the data by horsepower.\n",
    "1. Order the data by price.\n",
    "1. Group the data by origin.\n",
    "1. Group the data by manufacturer\n",
    "1. Transformations?\n",
    "1. Draw a histogram of horsepower\n",
    "1. "
   ]
  }
 ],
 "metadata": {
  "kernelspec": {
   "display_name": "Python 3",
   "language": "python",
   "name": "python3"
  },
  "language_info": {
   "codemirror_mode": {
    "name": "ipython",
    "version": 3
   },
   "file_extension": ".py",
   "mimetype": "text/x-python",
   "name": "python",
   "nbconvert_exporter": "python",
   "pygments_lexer": "ipython3",
   "version": "3.6.0"
  }
 },
 "nbformat": 4,
 "nbformat_minor": 2
}
