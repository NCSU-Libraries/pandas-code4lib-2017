{
 "cells": [
  {
   "cell_type": "markdown",
   "metadata": {
    "run_control": {
     "frozen": false,
     "read_only": false
    }
   },
   "source": [
    "# Code4Lib 2017 Workshop"
   ]
  },
  {
   "cell_type": "markdown",
   "metadata": {},
   "source": [
    "## Intro\n",
    "\n",
    "This notebook is an opportunity for you to work independently or with a partner on applying what you've learned so far. "
   ]
  },
  {
   "cell_type": "code",
   "execution_count": 1,
   "metadata": {
    "collapsed": true
   },
   "outputs": [],
   "source": [
    "# import required libraries\n",
    "import pandas as pd\n",
    "import numpy as np\n",
    "import matplotlib.pyplot as plt"
   ]
  },
  {
   "cell_type": "markdown",
   "metadata": {},
   "source": [
    "## Challenges (scratch pad for now)\n",
    "\n",
    "### Working with data\n",
    "1. import data into dataframe\n",
    "1. data.columns.\n",
    "1. data.head(). Also, what does surveys_df.head(15) do?\n",
    "1. data.tail().\n",
    "1. data.shape. Take note of the output of the shape method. What format does it return the shape of the DataFrame in?\n",
    "1. Create a list of unique plot ID’s found in the surveys data. Call it plot_names. How many unique plots are there in the data? How many unique species are in the data?\n",
    "1. What is the difference between len(plot_names) and plot_names.nunique()?\n",
    "1. How many recorded individuals are female F and how many male M\n",
    "1. What happens when you group by two columns using the following syntax and then grab mean values:\n",
    "sorted_data2 = surveys_df.groupby(['plot_id','sex'])\n",
    "sorted_data2.mean()\n",
    "1.Summarize weight values for each plot in your data. HINT: you can use the following syntax to only create summary statistics for one column in your data by_plot['weight'].describe()\n",
    "1. What’s another way to create a list of species and associated count of the records in the data? Hint: you can perform count, min, etc functions on groupby DataFrames in the same way you can perform them on regular DataFrames.\n",
    "\n",
    "### Merging Data\n",
    "\n",
    "1. In the data folder, there are two survey data files: survey2001.csv and survey2002.csv. Read the data into python and combine the files to make one new data frame. Create a plot of average plot weight by year grouped by sex. Export your results as a CSV and make sure it reads back into python properly.\n",
    "\n",
    "### Extract Range Based Subsets\n",
    "\n",
    "1. create a list of numbers a = [1, 2, 3, 4, 5]\n",
    "What value does the code below return? a[0]\n",
    "How about this: a[5]\n",
    "Or this? a[len(a)]\n",
    "In the example above, calling a[5] returns an error. Why is that?\n",
    "\n"
   ]
  },
  {
   "cell_type": "markdown",
   "metadata": {},
   "source": [
    "### Slicing Subsets of rows and columns\n",
    "\n",
    "We can select specific ranges of our data in both the row and column directions using either label or integer-based indexing.\n",
    "\n",
    "loc: indexing via labels or integers\n",
    "iloc: indexing via integers\n",
    "To select a subset of rows AND columns from our DataFrame, we can use the iloc method. For example, we can select month, day and year (columns 2, 3 and 4 if we start counting at 1), like this:\n",
    "\n",
    "surveys_df.iloc[0:3, 1:4]\n",
    "\n",
    "which gives output\n",
    "\n",
    "   month  day  year\n",
    "0      7   16  1977\n",
    "1      7   16  1977\n",
    "2      7   16  1977\n",
    "Notice that we asked for a slice from 0:3. This yielded 3 rows of data. When you ask for 0:3, you are actually telling python to start at index 0 and select rows 0, 1, 2 up to but not including 3.\n",
    "\n",
    "Let’s next explore some other ways to index and select subsets of data:\n",
    "\n",
    "#### select all columns for rows of index values 0 and 10\n",
    "surveys_df.loc[[0, 10], :]\n",
    "#### what does this do?\n",
    "surveys_df.loc[0, ['species_id', 'plot_id', 'weight']]\n",
    "\n",
    "#### What happens when you type the code below?\n",
    "surveys_df.loc[[0, 10, 35549], :]\n",
    "NOTE: Labels must be found in the DataFrame or you will get a KeyError. The start bound and the stop bound are included. When using loc, integers can also be used, but they refer to the index label and not the position. Thus when you use loc, and select 1:4, you will get a different result than using iloc to select rows 1:4.\n",
    "\n",
    "We can also select a specific data value according to the specific row and column location within the data frame using the iloc function: dat.iloc[row,column].\n",
    "\n",
    "surveys_df.iloc[2,6]\n",
    "which gives output\n",
    "\n",
    "'F'\n",
    "Remember that Python indexing begins at 0. So, the index location [2, 6] selects the element that is 3 rows down and 7 columns over in the DataFrame.\n",
    "\n",
    "#### Challenge Activities\n",
    "What happens when you type:\n",
    "\n",
    "surveys_df[0:3]\n",
    "surveys_df[:5]\n",
    "surveys_df[-1:]\n",
    "What happens when you call:\n",
    "\n",
    "dat.iloc[0:4, 1:4]\n",
    "dat.loc[0:4, 1:4]\n",
    "How are the two commands different?\n",
    "\n",
    "\n"
   ]
  },
  {
   "cell_type": "markdown",
   "metadata": {},
   "source": [
    "### Subsetting DATa using Criteria\n",
    "\n",
    "We can also select a subset of our data using criteria. For example, we can select all rows that have a year value of 2002.\n",
    "\n",
    "surveys_df[surveys_df.year == 2002]\n",
    "Which produces the following output:\n",
    "\n",
    "record_id  month  day  year  plot_id species_id  sex  hindfoot_length  weight\n",
    "33320      33321      1   12  2002        1         DM    M     38      44 \n",
    "33321      33322      1   12  2002        1         DO    M     37      58\n",
    "33322      33323      1   12  2002        1         PB    M     28      45\n",
    "33323      33324      1   12  2002        1         AB  NaN    NaN     NaN\n",
    "33324      33325      1   12  2002        1         DO    M     35      29\n",
    "...\n",
    "35544      35545     12   31  2002       15         AH  NaN    NaN     NaN\n",
    "35545      35546     12   31  2002       15         AH  NaN    NaN     NaN\n",
    "35546      35547     12   31  2002       10         RM    F     15      14\n",
    "35547      35548     12   31  2002        7         DO    M     36      51\n",
    "35548      35549     12   31  2002        5        NaN  NaN    NaN     NaN\n",
    "\n",
    "[2229 rows x 9 columns]\n",
    "Or we can select all rows that do not contain the year 2002.\n",
    "\n",
    "surveys_df[surveys_df.year != 2002]\n",
    "We can define sets of criteria too:\n",
    "\n",
    "surveys_df[(surveys_df.year >= 1980) & (surveys_df.year <= 1985)]\n",
    "\n",
    "\n",
    "Python Syntax Cheat Sheet\n",
    "Use can use the syntax below when querying data from a DataFrame. Experiment with selecting various subsets of the “surveys” data.\n",
    "\n",
    "Equals: ==\n",
    "Not equals: !=\n",
    "Greater than, less than: > or <\n",
    "Greater than or equal to >=\n",
    "Less than or equal to <=\n",
    "Challenge Activities\n",
    "Select a subset of rows in the surveys_df DataFrame that contain data from the year 1999 and that contain weight values less than or equal to 8. How many columns did you end up with? What did your neighbor get?\n",
    "You can use the isin command in python to query a DataFrame based upon a list of values as follows: surveys_df[surveys_df['species_id'].isin([listGoesHere])]. Use the isin function to find all plots that contain particular species in the surveys DataFrame. How many records contain these values?\n",
    "Experiment with other queries. Create a query that finds all rows with a weight value > or equal to 0.\n",
    "The ~ symbol in Python can be used to return the OPPOSITE of the selection that you specify in python. It is equivalent to is not in. Write a query that selects all rows that are NOT equal to ‘M’ or ‘F’ in the surveys data.\n"
   ]
  },
  {
   "cell_type": "markdown",
   "metadata": {},
   "source": [
    "### Cars Dataset activity\n",
    "\n",
    "1. Import cars93.csv\n",
    "1. Inspect dataset. What is it's shape?\n",
    "1. Find the average cost of a car in 1993\n"
   ]
  }
 ],
 "metadata": {
  "kernelspec": {
   "display_name": "Python 3",
   "language": "python",
   "name": "python3"
  },
  "language_info": {
   "codemirror_mode": {
    "name": "ipython",
    "version": 3
   },
   "file_extension": ".py",
   "mimetype": "text/x-python",
   "name": "python",
   "nbconvert_exporter": "python",
   "pygments_lexer": "ipython3",
   "version": "3.6.0"
  }
 },
 "nbformat": 4,
 "nbformat_minor": 2
}
