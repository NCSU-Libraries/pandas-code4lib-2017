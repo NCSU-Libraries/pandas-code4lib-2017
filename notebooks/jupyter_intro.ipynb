{
 "cells": [
  {
   "cell_type": "markdown",
   "metadata": {
    "run_control": {
     "frozen": false,
     "read_only": false
    }
   },
   "source": [
    "# Intro to Jupyter"
   ]
  },
  {
   "cell_type": "markdown",
   "metadata": {
    "collapsed": true,
    "run_control": {
     "frozen": false,
     "read_only": false
    }
   },
   "source": [
    "The Jupyter Notebook is a web application that allows you to create and share documents that contain live code, equations, visualizations and explanatory text. Uses include: data cleaning and transformation, numerical simulation, statistical modeling, machine learning and much more.\n",
    "\n",
    "http://jupyter.org/\n",
    "\n",
    "The hands-on portion of this workshop will be done inside of Jupyter notebooks. Before we start, we'll take a quick tour around the functionality of Jupyter notebooks."
   ]
  },
  {
   "cell_type": "markdown",
   "metadata": {
    "run_control": {
     "frozen": false,
     "read_only": false
    }
   },
   "source": [
    "## Saving your work\n",
    "\n",
    "Jupyter will automatically save your work periodically, but you shouldn't rely solely on this functionality. In order to manually save, click on the \"File\" menu above, and click \"Save and Checkpoint\". \n",
    "\n",
    "Jupyter saves notebooks as files with the .ipynb extension. These files are JSON representation of your notebooks, and allow them to be used in other instances of Jupyter."
   ]
  },
  {
   "cell_type": "markdown",
   "metadata": {
    "run_control": {
     "frozen": false,
     "read_only": false
    }
   },
   "source": [
    "## Cells\n",
    "Each section of a Jupyter notebook is called a cell. A cell can typically contain either Python code or Markdown, although with Jupyter add-ons, more formats are possible. This cell contains markdown. The following cell contains Python code. \n",
    "\n",
    "\n",
    "It is important to note that notebooks are procedural - you can divide the code in a notebook into cells, but each cell does not have an individual scope. You can define a variable or function in one cell, and then refer to it in a different cell later on in the notebook. So it is important to run the code of a notebook in order in most cases. \n",
    "\n",
    "To execute a cell, highlight the cell by clicking on it, and press the \"play\" button in the toolbar above. There are also keyboard shortcuts for executing a cell:\n",
    "\n",
    "* \"Ctrl+Enter\" to run the code in a cell\n",
    "* \"Shift+Enter\" to run the code in a cell and select the next cell\n",
    "\n",
    "Try executing next cell!"
   ]
  },
  {
   "cell_type": "code",
   "execution_count": null,
   "metadata": {
    "collapsed": false,
    "run_control": {
     "frozen": false,
     "read_only": false
    }
   },
   "outputs": [],
   "source": [
    "print(5 + 4)"
   ]
  },
  {
   "cell_type": "markdown",
   "metadata": {
    "run_control": {
     "frozen": false,
     "read_only": false
    }
   },
   "source": [
    "There will automatically be a new cell created every time you execute the last cell in a notebook. You can also create new cells manually by going to the \"Insert\" menu above, and clicking \"Insert cell above\" or \"Insert cell below\".\n",
    "\n",
    "Try creating a new cell below this one and enter some Python code."
   ]
  },
  {
   "cell_type": "markdown",
   "metadata": {},
   "source": [
    "Notice that the cell you created was a code cell by default. To change the type of cell, look at the toolbar above the notebook. Beside the icon buttons, there is a dropdown menu that will say either \"Code\" or \"Markdown\". This is where you can toggle the type of cell. Try creating a new cell below this one, and change it to type \"Markdown\". Enter some Markdown in the cell and then execute it. If you are not familiar with Markdown, enter \"# Some text here\" (without the quotes) to create a heading."
   ]
  },
  {
   "cell_type": "markdown",
   "metadata": {},
   "source": [
    "The final note about cells is that if the last line of a code cell is a statement that returns a value or just a variable name (and not a variable assignment), then the result or value of the variable will automatically be printed after executing the cell. Try the following examples and feel free to create some cells to test this out."
   ]
  },
  {
   "cell_type": "code",
   "execution_count": null,
   "metadata": {
    "collapsed": false
   },
   "outputs": [],
   "source": [
    "2 + 2"
   ]
  },
  {
   "cell_type": "code",
   "execution_count": null,
   "metadata": {
    "collapsed": false
   },
   "outputs": [],
   "source": [
    "my_string = \"HI THERE\"\n",
    "my_string.lower()"
   ]
  },
  {
   "cell_type": "code",
   "execution_count": null,
   "metadata": {
    "collapsed": false
   },
   "outputs": [],
   "source": [
    "my_variable = \"hello world\"\n",
    "my_variable"
   ]
  },
  {
   "cell_type": "code",
   "execution_count": null,
   "metadata": {
    "collapsed": true
   },
   "outputs": [],
   "source": [
    "# variable assignment won't print anything on execution\n",
    "var1 = \"hello\""
   ]
  },
  {
   "cell_type": "markdown",
   "metadata": {
    "run_control": {
     "frozen": false,
     "read_only": false
    }
   },
   "source": [
    "## Keyboard shortcuts\n",
    "\n",
    "Here are useful keyboard shortcuts when working with a Jupyter notebook: https://www.cheatography.com/weidadeyue/cheat-sheets/jupyter-notebook/\n",
    "\n",
    "Notice that the shortcuts above are separated into two different categories: \"Command mode\" and \"Edit mode\". By default, when you start to edit a cell, you are in Edit Mode. To enter command mode, press Esc. From here you can use any of the shortcuts in the \"Command mode\" section. To return to edit mode, press Enter."
   ]
  },
  {
   "cell_type": "markdown",
   "metadata": {
    "run_control": {
     "frozen": false,
     "read_only": false
    }
   },
   "source": [
    "## Markdown for documentation\n",
    "\n",
    "You can add markdown to add any text or documentation in your notebook. Markdown is a lightweight markup language that is a superset of HTML and can be converted into HTML using plain text formatting syntax. For adding text, select \"Markdown\" from the menubar when you add a new cell. \n",
    "* Guide for adding markdown on jupyter notebook - [Markdown Cells](http://jupyter-notebook.readthedocs.io/en/latest/examples/Notebook/Working%20With%20Markdown%20Cells.html)\n",
    "* Tutorial - [Learning Markdown](http://www.markdown-tutorial.com/#/)"
   ]
  },
  {
   "cell_type": "markdown",
   "metadata": {
    "run_control": {
     "frozen": false,
     "read_only": false
    }
   },
   "source": [
    "# Workshop Style\n",
    "\n",
    "The hands-on portion of the workshop is split up into 2 parts. Each part will be preceded by a lecture, which will give an overview of the concepts needed for the hand-on portion. The hands-on portions will consist of a narrative introducing concepts in more depth, as well as instructions for activities to practice applying the concepts. There will be cells following these instructions, sometimes with skeleton code which must be filled in, sometimes empty where the attendee will have to provide all the code needed.\n",
    "\n",
    "The workshop should be completed in order, as some activities will rely on steps completed in previous activities in order to work correctly.\n",
    "\n",
    "The workshop should be completed individually, although you are very much encouraged to collaborate with others around you in order to work out solutions, or to give/receive help. Additionally, the instructors are available for help, and will be checking in with the group periodically through the hands-on portion to help with common issues."
   ]
  },
  {
   "cell_type": "markdown",
   "metadata": {
    "collapsed": true,
    "run_control": {
     "frozen": false,
     "read_only": false
    }
   },
   "source": [
    "## Move on to Workshop 1\n",
    "\n",
    "Next, we'll move on to workshop 1. We'll do the first couple steps of this workshop together, then you'll have an opportunity to work on your own (or with others around you). We'll be around to answer questions!"
   ]
  },
  {
   "cell_type": "code",
   "execution_count": null,
   "metadata": {
    "collapsed": true
   },
   "outputs": [],
   "source": []
  }
 ],
 "metadata": {
  "kernelspec": {
   "display_name": "Python 3",
   "language": "python",
   "name": "python3"
  },
  "language_info": {
   "codemirror_mode": {
    "name": "ipython",
    "version": 3
   },
   "file_extension": ".py",
   "mimetype": "text/x-python",
   "name": "python",
   "nbconvert_exporter": "python",
   "pygments_lexer": "ipython3",
   "version": "3.6.0"
  }
 },
 "nbformat": 4,
 "nbformat_minor": 2
}
