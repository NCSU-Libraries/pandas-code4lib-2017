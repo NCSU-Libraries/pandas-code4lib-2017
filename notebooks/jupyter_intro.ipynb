{
 "cells": [
  {
   "cell_type": "markdown",
   "metadata": {
    "run_control": {
     "frozen": false,
     "read_only": false
    }
   },
   "source": [
    "# Intro to Jupyter"
   ]
  },
  {
   "cell_type": "markdown",
   "metadata": {
    "collapsed": true,
    "run_control": {
     "frozen": false,
     "read_only": false
    }
   },
   "source": [
    "The Jupyter Notebook is a web application that allows you to create and share documents that contain live code, equations, visualizations and explanatory text. Uses include: data cleaning and transformation, numerical simulation, statistical modeling, machine learning and much more.\n",
    "\n",
    "http://jupyter.org/\n",
    "\n",
    "The hands-on portion of this workshop will be done inside of Jupyter notebooks. Before we start, we'll take a quick tour around the functionality of Jupyter notebooks."
   ]
  },
  {
   "cell_type": "markdown",
   "metadata": {
    "run_control": {
     "frozen": false,
     "read_only": false
    }
   },
   "source": [
    "## Installing / Running Jupyter notebooks\n",
    "\n",
    "We will run our Jupyter notebooks for this workshop online within JupyterHub, which is a server that runs multiple instances of the Jupyter notebook server, so there is no setup needed. However, you can run a standalone version of the Jupyter notebook server on your own machine using the following tutorial:\n",
    "\n",
    "https://www.datacamp.com/community/tutorials/tutorial-jupyter-notebook"
   ]
  },
  {
   "cell_type": "markdown",
   "metadata": {
    "run_control": {
     "frozen": false,
     "read_only": false
    }
   },
   "source": [
    "## Saving your work\n",
    "\n",
    "Jupyter will automatically save your work periodically, but you shouldn't rely solely on this functionality. In order to manually save, click on the \"File\" menu above, and click \"Save and Checkpoint\". \n",
    "\n",
    "Jupyter saves notebooks as files with the .ipynb extension. These files are JSON representation of your notebooks, and allow them to be used in other instances of Jupyter."
   ]
  },
  {
   "cell_type": "markdown",
   "metadata": {
    "run_control": {
     "frozen": false,
     "read_only": false
    }
   },
   "source": [
    "## Cells\n",
    "Each section of a Jupyter notebook is called a cell. A cell can typically contain either Python code or Markdown, although with Jupyter add-ons, more formats are possible. This cell contains markdown. The following cell contains Python code. When you execute a cell, any output from commands will appear underneath the cell. To execute a cell, you can press the \"play\" button in the toolbar above. There are also keyboard shortcuts for executing a cell:\n",
    "\n",
    "* \"Ctrl+Enter\" to run the code in a cell\n",
    "* \"Shift+Enter\" to run the code in a cell and select the next cell\n",
    "\n",
    "Try executing next cell!"
   ]
  },
  {
   "cell_type": "code",
   "execution_count": null,
   "metadata": {
    "collapsed": false,
    "run_control": {
     "frozen": false,
     "read_only": false
    }
   },
   "outputs": [],
   "source": [
    "print(5 + 4)"
   ]
  },
  {
   "cell_type": "markdown",
   "metadata": {
    "run_control": {
     "frozen": false,
     "read_only": false
    }
   },
   "source": [
    "There will automatically be a new cell created every time you execute the last cell in a notebook. You can also create new cells manually by going to the \"Insert\" menu above, and clicking \"Insert cell above\" or \"Insert cell below\".\n",
    "\n",
    "Try creating a new cell below this one."
   ]
  },
  {
   "cell_type": "markdown",
   "metadata": {
    "run_control": {
     "frozen": false,
     "read_only": false
    }
   },
   "source": [
    "## Keyboard shortcuts\n",
    "\n",
    "Here are useful keyboard shortcuts when working with a Jupyter notebook: https://www.cheatography.com/weidadeyue/cheat-sheets/jupyter-notebook/\n",
    "\n",
    "Notice that the shortcuts above are separated into two different categories: \"Command mode\" and \"Edit mode\". By default, when you start to edit a cell, you are in Edit Mode. To enter command mode, press Esc. From here you can use any of the shortcuts in the \"Command mode\" section. To return to edit mode, press Enter."
   ]
  },
  {
   "cell_type": "markdown",
   "metadata": {
    "run_control": {
     "frozen": false,
     "read_only": false
    }
   },
   "source": [
    "## Markdown for documentation\n",
    "\n",
    "You can add markdown to add any text or documentation in your notebook. Markdown is a lightweight markup language that is a superset of HTML and can be converted into HTML using plain text formatting syntax. For adding text, select \"Markdown\" from the menubar when you add a new cell. \n",
    "* Guide for adding markdown on jupyter notebook - [Markdown Cells](http://jupyter-notebook.readthedocs.io/en/latest/examples/Notebook/Working%20With%20Markdown%20Cells.html)\n",
    "* Tutorial - [Learning Markdown](http://www.markdown-tutorial.com/#/)"
   ]
  },
  {
   "cell_type": "markdown",
   "metadata": {
    "run_control": {
     "frozen": false,
     "read_only": false
    }
   },
   "source": [
    "# Workshop Style\n",
    "\n",
    "The hands-on portion of the workshop is split up into 2 parts. Each part will be preceded by a lecture, which will give an overview of the concepts needed for the hand-on portion. The hands-on portions will consist of a narrative introducing concepts in more depth, as well as instructions for activities to practice applying the concepts. There will be cells following these instructions, sometimes with skeleton code which must be filled in, sometimes empty where the attendee will have to provide all the code needed.\n",
    "\n",
    "The workshop should be completed in order, as some activities will rely on steps completed in previous activities in order to work correctly.\n",
    "\n",
    "The workshop should be completed individually, although you are very much encouraged to collaborate with others around you in order to work out solutions, or to give/receive help. Additionally, the instructors are available for help, and will be checking in with the group periodically through the hands-on portion to help with common issues."
   ]
  },
  {
   "cell_type": "code",
   "execution_count": null,
   "metadata": {
    "collapsed": true,
    "run_control": {
     "frozen": false,
     "read_only": false
    }
   },
   "outputs": [],
   "source": []
  }
 ],
 "metadata": {
  "kernelspec": {
   "display_name": "Python 3",
   "language": "python",
   "name": "python3"
  },
  "language_info": {
   "codemirror_mode": {
    "name": "ipython",
    "version": 3
   },
   "file_extension": ".py",
   "mimetype": "text/x-python",
   "name": "python",
   "nbconvert_exporter": "python",
   "pygments_lexer": "ipython3",
   "version": "3.6.0"
  }
 },
 "nbformat": 4,
 "nbformat_minor": 2
}
